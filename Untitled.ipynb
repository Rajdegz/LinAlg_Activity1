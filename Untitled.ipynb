{
 "cells": [
  {
   "cell_type": "markdown",
   "metadata": {},
   "source": [
    "<h2>Linear Algebra (CpE210A)<b>"
   ]
  },
  {
   "cell_type": "markdown",
   "metadata": {},
   "source": [
    "<h4><b>Laboratory 1: Getting acquainted by Python<b>"
   ]
  },
  {
   "cell_type": "markdown",
   "metadata": {},
   "source": [
    "<h5>Coded and submitted by:<h5>\n",
    "    <h5><i>De Guzman, Jose Raymundo A.<i>\n",
    "    <h5><i>58010<i>"
   ]
  },
  {
   "cell_type": "markdown",
   "metadata": {},
   "source": [
    "<h5><b>Lab Exercises:<b>"
   ]
  },
  {
   "cell_type": "code",
   "execution_count": 3,
   "metadata": {},
   "outputs": [
    {
     "name": "stdout",
     "output_type": "stream",
     "text": [
      "Charmander at 15 \n",
      "Pidgey at 11 \n",
      "Sandshrew at 18 \n",
      "Rattata at 5 \n",
      "Abra at 14\n"
     ]
    }
   ],
   "source": [
    "a, b, c, d, e  = [15, 11, 18, 5, 14]\n",
    "party = ['Charmander', 'Pidgey', 'Sandshrew', 'Rattata', 'Abra']\n",
    "print (f\"{party [0]} at {a} \\n{party [1]} at {b} \\n{party [2]} at {c} \\n{party [3]} at {d} \\n{party [4]} at {e}\")"
   ]
  },
  {
   "cell_type": "code",
   "execution_count": 4,
   "metadata": {},
   "outputs": [
    {
     "name": "stdout",
     "output_type": "stream",
     "text": [
      "['Unown', 'Magikarp', 'Feebas']\n"
     ]
    }
   ],
   "source": [
    "reserves = [\n",
    "    (\"Onix\", 10),\n",
    "    (\"Slowpoke\", 18),\n",
    "    (\"Dialga\", 2),\n",
    "    (\"Magikarp\", 32),\n",
    "    (\"Feebas\", 22),\n",
    "    (\"Swablu\", 19),\n",
    "    (\"Regigigas\", 3),\n",
    "    (\"Unown\", 50)\n",
    "]\n",
    "level = lambda pokemon: pokemon [1]\n",
    "reserves.sort (key = level, reverse = True)\n",
    "del reserves[3:8]\n",
    "the_topthree = []\n",
    "for first_element in reserves:\n",
    "    the_topthree.append(first_element[0])\n",
    "\n",
    "print(the_topthree)"
   ]
  },
  {
   "cell_type": "code",
   "execution_count": 5,
   "metadata": {},
   "outputs": [
    {
     "name": "stdout",
     "output_type": "stream",
     "text": [
      "['Charmander', 'Pidgey', 'Sandshrew', 'Rattata', 'Abra', 'Unown']\n",
      "['Charmander', 'Pidgey', 'Sandshrew', 'Rattata', 'Abra', 'Magikarp']\n",
      "['Charmander', 'Pidgey', 'Sandshrew', 'Rattata', 'Abra', 'Feebas']\n"
     ]
    }
   ],
   "source": [
    "def create_party():\n",
    "    i = 0\n",
    "    while (i <= 2):\n",
    "        print(party + [the_topthree[i]])\n",
    "        i = i+1\n",
    "create_party()\n"
   ]
  },
  {
   "cell_type": "code",
   "execution_count": null,
   "metadata": {},
   "outputs": [],
   "source": []
  }
 ],
 "metadata": {
  "kernelspec": {
   "display_name": "Python 3",
   "language": "python",
   "name": "python3"
  },
  "language_info": {
   "codemirror_mode": {
    "name": "ipython",
    "version": 3
   },
   "file_extension": ".py",
   "mimetype": "text/x-python",
   "name": "python",
   "nbconvert_exporter": "python",
   "pygments_lexer": "ipython3",
   "version": "3.8.3"
  }
 },
 "nbformat": 4,
 "nbformat_minor": 4
}
